{
 "cells": [
  {
   "cell_type": "code",
   "execution_count": null,
   "metadata": {},
   "outputs": [],
   "source": [
    "fig.plt.figure(figsize=(6,6))\n",
    "\n",
    "plt.plot(x,y,label=r'$y=\\sin(x)$')\n",
    "plt.plot(x,z,label=r'$y=\\cos(x)$')\n",
    "plt.plot(x,w,label=r'$y=\\sin(4x)$')\n",
    "plt.plot(x,v,label=r'$y=\\cos(4x)$')\n",
    "\n",
    "plt.xlabel(r'$x$')\n",
    "plt.ylabel(r'$y(x)$')\n",
    "plt.xlim([0,2*np.pi])\n",
    "plt.ylim([-1.2,1.2])\n",
    "plt.legend(lcc=1,framealpha=0.95)\n",
    "\n",
    "plt.gca().set_aspect(np.pi/1.2)\n",
    "\n"
   ]
  }
 ],
 "metadata": {
  "kernelspec": {
   "display_name": "Python 3",
   "language": "python",
   "name": "python3"
  },
  "language_info": {
   "codemirror_mode": {
    "name": "ipython",
    "version": 3
   },
   "file_extension": ".py",
   "mimetype": "text/x-python",
   "name": "python",
   "nbconvert_exporter": "python",
   "pygments_lexer": "ipython3",
   "version": "3.6.5"
  }
 },
 "nbformat": 4,
 "nbformat_minor": 2
}
